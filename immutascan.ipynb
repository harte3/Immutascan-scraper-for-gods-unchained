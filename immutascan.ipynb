{
 "cells": [
  {
   "cell_type": "code",
   "execution_count": 6,
   "metadata": {
    "scrolled": true
   },
   "outputs": [
    {
     "name": "stderr",
     "output_type": "stream",
     "text": [
      "C:\\Users\\SARAHP~1\\AppData\\Local\\Temp/ipykernel_24336/2960979567.py:16: DeprecationWarning: executable_path has been deprecated, please pass in a Service object\n",
      "  driver = webdriver.Chrome(executable_path=r\"C:\\Users\\Sarah Pierce\\Downloads\\chromedriver.exe\", options=options)\n",
      "C:\\Users\\SARAHP~1\\AppData\\Local\\Temp/ipykernel_24336/2960979567.py:23: DeprecationWarning: find_element_by_* commands are deprecated. Please use find_element() instead\n",
      "  driver.find_element_by_xpath(xpath).click()\n"
     ]
    },
    {
     "name": "stdout",
     "output_type": "stream",
     "text": [
      "2022-01-04 16:58:18.630892\n",
      "done\n"
     ]
    }
   ],
   "source": [
    "from selenium import webdriver\n",
    "from selenium.webdriver.common.keys import Keys\n",
    "from selenium.webdriver.chrome.options import Options\n",
    "from selenium.webdriver.support.ui import WebDriverWait\n",
    "from selenium.webdriver.common.action_chains import ActionChains\n",
    "from datetime import datetime\n",
    "import time\n",
    "import pandas as pd\n",
    "\n",
    "#launch url\n",
    "url = \"https://immutascan.io/address/0xacb3c6a43d15b907e8433077b6d38ae40936fe2c\"\n",
    "# create a new Chrome session\n",
    "options = Options()\n",
    "# options.add_argument('--headless')\n",
    "options.binary_location = r\"<Path to Chrome>\"\n",
    "driver = webdriver.Chrome(executable_path=r\"<Path to web driver>\", options=options)\n",
    "driver.implicitly_wait(30)\n",
    "driver.get(url)\n",
    "\n",
    "time.sleep(1)\n",
    "\n",
    "# The site is dynamic and uses infinite scroll.\n",
    "xpath=('/html/body/app-root/div/app-address-page/div[3]/div/div/mat-tab-group/div/mat-tab-body[1]/div/app-transaction-list/table/thead/tr/th[6]/mat-checkbox/label/span[2]')\n",
    "driver.find_element_by_xpath(xpath).click()\n",
    "\n",
    "time.sleep(1)\n",
    "\n",
    "max_time = time.time() + 60*20  # scroll continuously for 20 minutes\n",
    "start_time = time.time()  # remember when we started\n",
    "print(datetime.now())\n",
    "\n",
    "while start_time < max_time: # Continuously scroll down for a specified amount of time\n",
    "\n",
    "    driver.execute_script(\"window.scrollTo(0, document.body.scrollHeight);\")\n",
    "    start_time = time.time()\n",
    "\n",
    "    # Wait to load page\n",
    "    time.sleep(1)\n",
    "    \n",
    "\n",
    "actions = ActionChains(driver)\n",
    "time.sleep(10)\n",
    "actions.key_down(Keys.CONTROL).send_keys('a').key_up(Keys.CONTROL).perform()\n",
    "time.sleep(10)\n",
    "actions.key_down(Keys.CONTROL).send_keys('c').key_up(Keys.CONTROL).perform()\n",
    "\n",
    "gsheets='https://docs.google.com/spreadsheets/<Link to your spreadsheet>=sharing' # Used for easy formating\n",
    "driver.get(gsheets)\n",
    "\n",
    "actions.key_down(Keys.CONTROL).send_keys('v').key_up(Keys.CONTROL).perform()\n",
    "\n",
    "time.sleep(5)\n",
    "\n",
    "# save to desktop\n",
    "actions.key_down(Keys.ALT).send_keys('f').key_up(Keys.ALT).perform()\n",
    "actions.send_keys('d').perform()\n",
    "actions.send_keys('c').perform()\n",
    "\n",
    "time.sleep(3)\n",
    "\n",
    "\n",
    "print('done')\n",
    "\n",
    "pd.read_csv(r\"<path to saved file>\", header=18)"
   ]
  }
